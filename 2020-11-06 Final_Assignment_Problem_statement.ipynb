{
 "cells": [
  {
   "cell_type": "markdown",
   "metadata": {},
   "source": [
    "<font size = \"4\">\n",
    "    <b>\n",
    "        Coursere Capstone: where should Picnic deliver next?"
   ]
  },
  {
   "cell_type": "markdown",
   "metadata": {},
   "source": [
    "<b> 1) Business case"
   ]
  },
  {
   "cell_type": "markdown",
   "metadata": {},
   "source": [
    "Picnic is a Dutch online supermarket. Ordering groceries online has become more popular over the past years: nowadays the amount of people doing online groceries has doubled compared to 2016 (https://www.trouw.nl/nieuws/online-boodschappen-doen-wint-aan-populariteit~b232e89d/?referrer=https%3A%2F%2Fwww.google.com%2F). A company anticipating on this trend is Picnic: the first supermarket that has no physical store anymore, but only distribution centers. For the company this is convenient because it requires e.g. less rent and less staff to pay. The groceries are delivered by small electric vehicles. In a world that becomes more aware of climate change, it is more convenient to have few electric vehicles driving around for delivering groceires, than that everyone has to drive to the supermarket by themselves. Furthermore, plastic bags and bottles can be returned every time groceries are delivered. For this reason, ordering groceries online is not only attractive for the eldery, but also for younger people.\n",
    "\n",
    "The vehicles of Picnic are found in more and more cities throughout the Netherlands and the supermarket is very popular: there are huge waiting lists for people who want to become a customer, e.g. in Enschede, there are 20.000 people waiting (https://www.tubantia.nl/enschede/alweer-8-000-klanten-op-de-wachtlijst-enschede-is-een-echte-picnic-stad~afe3c277/?referrer=https%3A%2F%2Fwww.google.com%2F). Due to the popularity, a logical step is to to keep expanding to other cities. However, which city is most suitable to start delivering next? In which city can Picnic gain most profit? That is something to find out using data science.\n",
    "\n"
   ]
  },
  {
   "cell_type": "markdown",
   "metadata": {},
   "source": [
    "<b> 2) The data"
   ]
  },
  {
   "cell_type": "markdown",
   "metadata": {},
   "source": [
    "To find out where to make the most profit, it is required to determine factors that influence this. Unfortunately, Picnic does no provide data about their profits in certain regions of the Netherlands, but assumptions can be done on important factors. A multiple regression model can be constructed and it can be checked whether the predicted regions to make profit are indeed the regions where Picnic is already active or not. If this is true, from the model it can be determined what the next region can be.\n",
    "\n",
    "The Dutch Central Statistical Office (https://www.cbs.nl/) provides many public data sets with information about e.g. population, income, house prices and more. This data base can provide useful parameters for a regression model, e.g. in regions where many people live or where people are wealthy, more profit can be made compared to poorer, less populated regions. \n",
    "Another indicator to determine if Picnic would be successful is the amount of grocery stores in a certain area. It is expected that Picnic would be more successful in regions where there are little grocery stores per 1.000 people compared to regions where there are many grocery stores per 1.000 people. For this reason, the Foursquare API can be used to determine the grocery store-density in certain regions.\n",
    "\n",
    "It is also useful to know where Picnic is already delivering, first of all for validation of the model and secondly to be sure that in the conclusion it will no be recommended to start delivering in a region where Picnic is already active. This information is available on the website of Picnic (www.picnic.nl).\n",
    "\n",
    "Unfortunately, data of the Central Statistical Office is based on municipalities, where the Picnic delivers in cities rather than in whole municipalities. To be able to do an analysis, the analysis will be performed based on municipitalities. For this reason, the city names from the website of Picnic are manually transformed to the municipalities where the cities are located in. "
   ]
  },
  {
   "cell_type": "code",
   "execution_count": null,
   "metadata": {},
   "outputs": [],
   "source": []
  }
 ],
 "metadata": {
  "kernelspec": {
   "display_name": "Python 3",
   "language": "python",
   "name": "python3"
  },
  "language_info": {
   "codemirror_mode": {
    "name": "ipython",
    "version": 3
   },
   "file_extension": ".py",
   "mimetype": "text/x-python",
   "name": "python",
   "nbconvert_exporter": "python",
   "pygments_lexer": "ipython3",
   "version": "3.8.3"
  }
 },
 "nbformat": 4,
 "nbformat_minor": 4
}
